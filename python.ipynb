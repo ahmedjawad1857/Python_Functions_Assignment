{
 "cells": [
  {
   "cell_type": "markdown",
   "metadata": {},
   "source": [
    "# Function Assignment\n"
   ]
  },
  {
   "cell_type": "markdown",
   "metadata": {},
   "source": [
    "###  1. Write a function to print the “Hello World” message\n"
   ]
  },
  {
   "cell_type": "code",
   "execution_count": 6,
   "metadata": {},
   "outputs": [
    {
     "name": "stdout",
     "output_type": "stream",
     "text": [
      "Hello World!\n"
     ]
    }
   ],
   "source": [
    "# 1. Write a function to print the “Hello World” message\n",
    "def printHello()->None:\n",
    "    print(\"Hello World!\")\n",
    "printHello()    \n",
    "    "
   ]
  },
  {
   "cell_type": "markdown",
   "metadata": {},
   "source": [
    "### 2. Write a function that returns the square of a number\n"
   ]
  },
  {
   "cell_type": "code",
   "execution_count": 10,
   "metadata": {},
   "outputs": [
    {
     "data": {
      "text/plain": [
       "100.0"
      ]
     },
     "execution_count": 10,
     "metadata": {},
     "output_type": "execute_result"
    }
   ],
   "source": [
    "# 2. Write a function that returns the square of a number\n",
    "def square(x:float)->float:\n",
    "    return x**2\n",
    "\n",
    "userInput:float = float(input(\"Enter a number(whole or float) to calculate the square ->  \"))\n",
    "\n",
    "print(square(userInput))"
   ]
  },
  {
   "cell_type": "markdown",
   "metadata": {},
   "source": [
    "### 3. Write a function to convert Fahrenheit to Centigrade\n"
   ]
  },
  {
   "cell_type": "code",
   "execution_count": 12,
   "metadata": {},
   "outputs": [
    {
     "name": "stdout",
     "output_type": "stream",
     "text": [
      "-11.11111111111111\n"
     ]
    }
   ],
   "source": [
    "# 3. Write a function to convert Fahrenheit to Centigrade\n",
    "def convertFahrenheit(fahrenheit:float)->float:\n",
    "    return (fahrenheit - 32) * 5/9\n",
    "\n",
    "userInput:float = float(input(\"Enter a number in Fahrenheit ->  \"))\n",
    "print(convertFahrenheit(userInput))"
   ]
  },
  {
   "cell_type": "markdown",
   "metadata": {},
   "source": [
    "### 4. Write a function to convert Centigrade to Fahrenheit\n"
   ]
  },
  {
   "cell_type": "code",
   "execution_count": 13,
   "metadata": {},
   "outputs": [
    {
     "name": "stdout",
     "output_type": "stream",
     "text": [
      "53.6\n"
     ]
    }
   ],
   "source": [
    "# 4. Write a function to convert Centigrade to Fahrenheit\n",
    "\n",
    "def convertCelsius(celsius:float)->float:\n",
    "    return (celsius * 9/5) + 32\n",
    "\n",
    "userInput:float = float(input(\"Enter a number in Celsius ->  \"))\n",
    "print(convertCelsius(userInput))"
   ]
  },
  {
   "cell_type": "markdown",
   "metadata": {},
   "source": [
    "### 5. Write a function to reverse a number\n"
   ]
  },
  {
   "cell_type": "code",
   "execution_count": 23,
   "metadata": {},
   "outputs": [
    {
     "name": "stdout",
     "output_type": "stream",
     "text": [
      "001\n"
     ]
    }
   ],
   "source": [
    "# 5. Write a function to reverse a number\n",
    "def reverseNum(num:str)->str:\n",
    "    return str(num)[::-1]\n",
    "     \n",
    "\n",
    "userInput:str = input(\"Enter a number ->  \")\n",
    "\n",
    "print(reverseNum(userInput))"
   ]
  },
  {
   "cell_type": "markdown",
   "metadata": {},
   "source": [
    "### 6. Count number of Vowels in String\n"
   ]
  },
  {
   "cell_type": "code",
   "execution_count": 25,
   "metadata": {},
   "outputs": [
    {
     "name": "stdout",
     "output_type": "stream",
     "text": [
      "15\n"
     ]
    }
   ],
   "source": [
    "# 6. Count number of Vowels in String\n",
    "\n",
    "def countVowels(string:str)->int:\n",
    "    count = 0\n",
    "    for i in string:\n",
    "        if i in \"aeiouAEIOU\":\n",
    "            count += 1\n",
    "    return count\n",
    "userInput:str = input(\"Enter a String ->  \")\n",
    "\n",
    "print(countVowels(userInput))\n"
   ]
  },
  {
   "cell_type": "markdown",
   "metadata": {},
   "source": [
    "### 7. Write a function to add unlimited numbers\n"
   ]
  },
  {
   "cell_type": "code",
   "execution_count": 32,
   "metadata": {},
   "outputs": [
    {
     "name": "stdout",
     "output_type": "stream",
     "text": [
      "27\n"
     ]
    }
   ],
   "source": [
    "# 7. Write a function to add unlimited numbers\n",
    "\n",
    "def addUnlimited(*num1:list[int])->int:\n",
    "    add:int = 0\n",
    "    for i in num1:\n",
    "        add += i\n",
    "    return add\n",
    "\n",
    "print(addUnlimited(1,2,3,2,13,2,4))\n",
    "    "
   ]
  },
  {
   "cell_type": "markdown",
   "metadata": {},
   "source": [
    "### 8. Write a function to check if a number is even \n"
   ]
  },
  {
   "cell_type": "code",
   "execution_count": 38,
   "metadata": {},
   "outputs": [
    {
     "name": "stdout",
     "output_type": "stream",
     "text": [
      "The number '0' is neither even nor odd.\n"
     ]
    }
   ],
   "source": [
    "# 8. Write a function to check if a number is even \n",
    "def checkEven(num):\n",
    "    if num == 0 or num < 0:\n",
    "        return f\"The number '{num}' is neither even nor odd.\"\n",
    "        \n",
    "    elif num % 2 == 0:\n",
    "        return f\"The number '{num}' is even.\"\n",
    "    elif num % 2 != 0:\n",
    "        return f\"The number '{num}' is not even.\"\n",
    "    else:\n",
    "        raise ValueError (\"Please Provide a valid number\")\n",
    "userInput:int = int(input(\"Enter a Number ->  \"))\n",
    "\n",
    "print(checkEven(userInput))"
   ]
  },
  {
   "cell_type": "markdown",
   "metadata": {},
   "source": [
    "### 9. Write a function to generate a random number"
   ]
  },
  {
   "cell_type": "code",
   "execution_count": 58,
   "metadata": {},
   "outputs": [
    {
     "name": "stdout",
     "output_type": "stream",
     "text": [
      "Generating a random number...\n",
      "The generated number is 2739\n"
     ]
    }
   ],
   "source": [
    "# 9. Write a function to generate a random number\n",
    "import random\n",
    "def generateRandomNumber()->int:\n",
    "    return random.randint(0,10000)\n",
    "\n",
    "print(\"Generating a random number...\")\n",
    "print(f\"The generated number is {generateRandomNumber()}\")\n",
    "        "
   ]
  }
 ],
 "metadata": {
  "kernelspec": {
   "display_name": "python12",
   "language": "python",
   "name": "python3"
  },
  "language_info": {
   "codemirror_mode": {
    "name": "ipython",
    "version": 3
   },
   "file_extension": ".py",
   "mimetype": "text/x-python",
   "name": "python",
   "nbconvert_exporter": "python",
   "pygments_lexer": "ipython3",
   "version": "3.12.0"
  }
 },
 "nbformat": 4,
 "nbformat_minor": 2
}
